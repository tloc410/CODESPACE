{
 "cells": [
  {
   "cell_type": "code",
   "execution_count": 3,
   "metadata": {},
   "outputs": [
    {
     "data": {
      "text/plain": [
       "2"
      ]
     },
     "execution_count": 3,
     "metadata": {},
     "output_type": "execute_result"
    }
   ],
   "source": [
    "def levenshtein_distance(str1, str2):\n",
    "    m = len(str1)\n",
    "    n = len(str2)\n",
    "    levent = [[0]*(n+1) for _ in range(m+1)]\n",
    "\n",
    "    for i in range(1, m + 1):\n",
    "        levent[i][0] = i\n",
    "\n",
    "    for j in range(1, n + 1):\n",
    "        levent[0][j] = j\n",
    "\n",
    "    for i in range(1, m + 1):\n",
    "        for j in range(1, n + 1):\n",
    "            if str1[i-1] == str2[j - 1]:\n",
    "                levent[i][j] = levent[i-1][j-1]\n",
    "            else:\n",
    "                levent[i][j] = min(\n",
    "                    levent[i-1][j-1], levent[i-1][j], levent[i][j-1]) + 1\n",
    "\n",
    "    return levent[m][n]\n",
    "\n",
    "levenshtein_distance(\"elmets\", \"elements\")\n"
   ]
  }
 ],
 "metadata": {
  "kernelspec": {
   "display_name": "AIO",
   "language": "python",
   "name": "python3"
  },
  "language_info": {
   "codemirror_mode": {
    "name": "ipython",
    "version": 3
   },
   "file_extension": ".py",
   "mimetype": "text/x-python",
   "name": "python",
   "nbconvert_exporter": "python",
   "pygments_lexer": "ipython3",
   "version": "3.12.3"
  }
 },
 "nbformat": 4,
 "nbformat_minor": 2
}
