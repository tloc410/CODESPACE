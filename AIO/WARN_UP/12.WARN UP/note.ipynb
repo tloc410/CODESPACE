{
 "cells": [
  {
   "cell_type": "code",
   "execution_count": 15,
   "metadata": {},
   "outputs": [
    {
     "data": {
      "text/html": [
       "<div>\n",
       "<style scoped>\n",
       "    .dataframe tbody tr th:only-of-type {\n",
       "        vertical-align: middle;\n",
       "    }\n",
       "\n",
       "    .dataframe tbody tr th {\n",
       "        vertical-align: top;\n",
       "    }\n",
       "\n",
       "    .dataframe thead th {\n",
       "        text-align: right;\n",
       "    }\n",
       "</style>\n",
       "<table border=\"1\" class=\"dataframe\">\n",
       "  <thead>\n",
       "    <tr style=\"text-align: right;\">\n",
       "      <th></th>\n",
       "      <th>0</th>\n",
       "      <th>1</th>\n",
       "      <th>2</th>\n",
       "      <th>3</th>\n",
       "      <th>4</th>\n",
       "      <th>5</th>\n",
       "      <th>6</th>\n",
       "      <th>7</th>\n",
       "    </tr>\n",
       "  </thead>\n",
       "  <tbody>\n",
       "    <tr>\n",
       "      <th>TV</th>\n",
       "      <td>44</td>\n",
       "      <td>17</td>\n",
       "      <td>151</td>\n",
       "      <td>180</td>\n",
       "      <td>8</td>\n",
       "      <td>57</td>\n",
       "      <td>120</td>\n",
       "      <td>8</td>\n",
       "    </tr>\n",
       "    <tr>\n",
       "      <th>Radio</th>\n",
       "      <td>39</td>\n",
       "      <td>45</td>\n",
       "      <td>41</td>\n",
       "      <td>10</td>\n",
       "      <td>48</td>\n",
       "      <td>32</td>\n",
       "      <td>19</td>\n",
       "      <td>2</td>\n",
       "    </tr>\n",
       "    <tr>\n",
       "      <th>Newspaper</th>\n",
       "      <td>45</td>\n",
       "      <td>69</td>\n",
       "      <td>58</td>\n",
       "      <td>58</td>\n",
       "      <td>75</td>\n",
       "      <td>23</td>\n",
       "      <td>11</td>\n",
       "      <td>1</td>\n",
       "    </tr>\n",
       "    <tr>\n",
       "      <th>Sales</th>\n",
       "      <td>10</td>\n",
       "      <td>12</td>\n",
       "      <td>16</td>\n",
       "      <td>17</td>\n",
       "      <td>7</td>\n",
       "      <td>11</td>\n",
       "      <td>13</td>\n",
       "      <td>4</td>\n",
       "    </tr>\n",
       "  </tbody>\n",
       "</table>\n",
       "</div>"
      ],
      "text/plain": [
       "            0   1    2    3   4   5    6  7\n",
       "TV         44  17  151  180   8  57  120  8\n",
       "Radio      39  45   41   10  48  32   19  2\n",
       "Newspaper  45  69   58   58  75  23   11  1\n",
       "Sales      10  12   16   17   7  11   13  4"
      ]
     },
     "execution_count": 15,
     "metadata": {},
     "output_type": "execute_result"
    }
   ],
   "source": [
    "import pandas as pd\n",
    "df = pd.read_csv('advertising_simple.csv').T\n",
    "df"
   ]
  },
  {
   "cell_type": "code",
   "execution_count": 53,
   "metadata": {},
   "outputs": [],
   "source": [
    "sample1 = \"Deep learning book\"\n",
    "sample2 = \"Machine learning algorthim\"\n",
    "sample3 = \"Learning AI from scrath\"\n",
    "sample4 = \"AI Vietnam\""
   ]
  },
  {
   "cell_type": "code",
   "execution_count": 54,
   "metadata": {},
   "outputs": [],
   "source": [
    "sample1 = sample1.lower()\n",
    "sample2 = sample2.lower()\n",
    "sample3 = sample3.lower()\n",
    "sample4 = sample4.lower()"
   ]
  },
  {
   "cell_type": "code",
   "execution_count": 55,
   "metadata": {},
   "outputs": [],
   "source": [
    "sample1 = sample1.split()\n",
    "sample2 = sample2.split()\n",
    "sample3 = sample3.split()\n",
    "sample4 = sample4.split()"
   ]
  },
  {
   "cell_type": "code",
   "execution_count": 56,
   "metadata": {},
   "outputs": [
    {
     "name": "stdout",
     "output_type": "stream",
     "text": [
      "['deep', 'learning', 'book', 'machine', 'algorthim', 'ai', 'from', 'scrath', 'vietnam']\n"
     ]
    }
   ],
   "source": [
    "vocabulary = []\n",
    "\n",
    "for word in sample1 + sample2 + sample3 + sample4:\n",
    "    if word not in vocabulary:\n",
    "        vocabulary.append(word)\n",
    "        \n",
    "print(vocabulary)"
   ]
  },
  {
   "cell_type": "code",
   "execution_count": 57,
   "metadata": {},
   "outputs": [],
   "source": [
    "length = len(vocabulary)\n",
    "sample1_vec = [0]*length\n",
    "sample2_vec = [0]*length\n",
    "sample3_vec = [0]*length\n",
    "sample4_vec = [0]*length"
   ]
  },
  {
   "cell_type": "code",
   "execution_count": 59,
   "metadata": {},
   "outputs": [
    {
     "name": "stdout",
     "output_type": "stream",
     "text": [
      "[1, 1, 1, 0, 0, 0, 0, 0, 0]\n",
      "[0, 1, 0, 1, 1, 0, 0, 0, 0]\n",
      "[0, 1, 0, 0, 0, 1, 1, 1, 0]\n",
      "[0, 0, 0, 0, 0, 1, 0, 0, 1]\n"
     ]
    }
   ],
   "source": [
    "for i, word in enumerate(vocabulary):\n",
    "    sample1_vec[i] = sample1.count(word)\n",
    "    sample2_vec[i] = sample2.count(word)\n",
    "    sample3_vec[i] = sample3.count(word)\n",
    "    sample4_vec[i] = sample4.count(word)\n",
    "        \n",
    "print(sample1_vec)\n",
    "print(sample2_vec)\n",
    "print(sample3_vec)\n",
    "print(sample4_vec)\n"
   ]
  },
  {
   "cell_type": "code",
   "execution_count": 5,
   "metadata": {},
   "outputs": [
    {
     "ename": "SyntaxError",
     "evalue": "invalid syntax (977751474.py, line 3)",
     "output_type": "error",
     "traceback": [
      "\u001b[1;36m  Cell \u001b[1;32mIn[5], line 3\u001b[1;36m\u001b[0m\n\u001b[1;33m    x = 5 y = 10\u001b[0m\n\u001b[1;37m          ^\u001b[0m\n\u001b[1;31mSyntaxError\u001b[0m\u001b[1;31m:\u001b[0m invalid syntax\n"
     ]
    }
   ],
   "source": [
    "def swap_values(a, b):\n",
    "      a, b = b, a\n",
    "      x = 5 y = 10\n",
    "swap_values(x, y) "
   ]
  }
 ],
 "metadata": {
  "kernelspec": {
   "display_name": "AIO",
   "language": "python",
   "name": "python3"
  },
  "language_info": {
   "codemirror_mode": {
    "name": "ipython",
    "version": 3
   },
   "file_extension": ".py",
   "mimetype": "text/x-python",
   "name": "python",
   "nbconvert_exporter": "python",
   "pygments_lexer": "ipython3",
   "version": "3.12.3"
  }
 },
 "nbformat": 4,
 "nbformat_minor": 2
}
