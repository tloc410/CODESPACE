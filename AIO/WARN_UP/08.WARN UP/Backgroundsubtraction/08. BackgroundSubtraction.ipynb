{
 "cells": [
  {
   "cell_type": "code",
   "execution_count": 6,
   "metadata": {},
   "outputs": [
    {
     "name": "stderr",
     "output_type": "stream",
     "text": [
      "Downloading...\n",
      "From: https://drive.google.com/uc?id=1KVw5x9DknoUh5lUCtyITs6sLe7thSJe-\n",
      "To: c:\\Google drive\\My Drive\\AIO2024\\CODESPACE\\AIO2024_Course\\WARN_UP\\08.WARN UP\\Backgroundsubtraction\\StillImage.png\n",
      "\n",
      "  0%|          | 0.00/253k [00:00<?, ?B/s]\n",
      "100%|██████████| 253k/253k [00:00<00:00, 1.67MB/s]\n",
      "100%|██████████| 253k/253k [00:00<00:00, 1.67MB/s]\n",
      "Downloading...\n",
      "From: https://drive.google.com/uc?id=1Um6YpPv7eWNZmPpHvdexTsYDKhbx7IMQ\n",
      "To: c:\\Google drive\\My Drive\\AIO2024\\CODESPACE\\AIO2024_Course\\WARN_UP\\08.WARN UP\\Backgroundsubtraction\\FakeBackground.png\n",
      "\n",
      "  0%|          | 0.00/177k [00:00<?, ?B/s]\n",
      "100%|██████████| 177k/177k [00:00<00:00, 435kB/s]\n",
      "100%|██████████| 177k/177k [00:00<00:00, 435kB/s]\n",
      "Downloading...\n",
      "From: https://drive.google.com/uc?id=1OUddezeqgOEkPJu1EMd7kAwDrCkxzv2v\n",
      "To: c:\\Google drive\\My Drive\\AIO2024\\CODESPACE\\AIO2024_Course\\WARN_UP\\08.WARN UP\\Backgroundsubtraction\\background.png\n",
      "\n",
      "  0%|          | 0.00/167k [00:00<?, ?B/s]\n",
      "100%|██████████| 167k/167k [00:00<00:00, 620kB/s]\n",
      "100%|██████████| 167k/167k [00:00<00:00, 619kB/s]\n"
     ]
    }
   ],
   "source": [
    "!gdown 1KVw5x9DknoUh5lUCtyITs6sLe7thSJe-\n",
    "!gdown 1Um6YpPv7eWNZmPpHvdexTsYDKhbx7IMQ\n",
    "!gdown 1OUddezeqgOEkPJu1EMd7kAwDrCkxzv2v"
   ]
  },
  {
   "cell_type": "code",
   "execution_count": 9,
   "metadata": {},
   "outputs": [
    {
     "data": {
      "text/plain": [
       "True"
      ]
     },
     "execution_count": 9,
     "metadata": {},
     "output_type": "execute_result"
    }
   ],
   "source": [
    "import numpy as np\n",
    "import cv2\n",
    "\n",
    "bg = cv2.imread('background.png', 1)\n",
    "bg = cv2.resize(bg, (640, 480))\n",
    "\n",
    "img = cv2.imread('StillImage.png', 1)\n",
    "img = cv2.resize(img, (640, 480))\n",
    "\n",
    "difference = cv2.absdiff(bg, img)\n",
    "_, difference_binary = cv2.threshold(difference, 20, 255, cv2.THRESH_BINARY)\n",
    "\n",
    "new_bg = cv2.imread('FakeBackground.png')\n",
    "new_bg = cv2.resize(new_bg, (640, 480))\n",
    "\n",
    "output = np.where(difference_binary==0, new_bg, img)\n",
    "cv2.imwrite('output.png', output)"
   ]
  },
  {
   "cell_type": "code",
   "execution_count": 8,
   "metadata": {},
   "outputs": [
    {
     "data": {
      "text/plain": [
       "True"
      ]
     },
     "execution_count": 8,
     "metadata": {},
     "output_type": "execute_result"
    }
   ],
   "source": [
    "import numpy as np\n",
    "import cv2\n",
    "\n",
    "bg = cv2.imread('background.png', 1)\n",
    "bg = cv2.resize(bg, (640, 480))\n",
    "\n",
    "img = cv2.imread('StillImage.png', 1)\n",
    "img = cv2.resize(img, (640, 480))\n",
    "\n",
    "difference = np.abs(img-bg) \n",
    "difference_binary = np.where(difference<25, \n",
    "                             0, 255)\n",
    "\n",
    "new_bg = cv2.imread('FakeBackground.png')\n",
    "new_bg = cv2.resize(new_bg, (640, 480))\n",
    "\n",
    "output = np.where(difference_binary==0, \n",
    "                  new_bg, img)\n",
    "cv2.imwrite('output.png', output)"
   ]
  }
 ],
 "metadata": {
  "kernelspec": {
   "display_name": "AIO",
   "language": "python",
   "name": "python3"
  },
  "language_info": {
   "codemirror_mode": {
    "name": "ipython",
    "version": 3
   },
   "file_extension": ".py",
   "mimetype": "text/x-python",
   "name": "python",
   "nbconvert_exporter": "python",
   "pygments_lexer": "ipython3",
   "version": "3.12.3"
  }
 },
 "nbformat": 4,
 "nbformat_minor": 2
}
