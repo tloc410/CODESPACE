{
  "cells": [
    {
      "cell_type": "markdown",
      "metadata": {
        "id": "-E7PhPzAkGwi"
      },
      "source": []
    },
    {
      "cell_type": "markdown",
      "metadata": {},
      "source": [
        "### 0. Introduction YOLOv8\n",
        "\n",
        "YOLOv8 được chứa trong thư viện ultralytics.\n",
        "\n",
        "Object detection: là một hình vuông chứ đối tượng và label của đối tượng.\n",
        "\n",
        "Object detection có 2 bài toán con:\n",
        "+ 1: Object localization: bounding box.\n",
        "Có rất nhiều cách xác định nhưng với YOLOv8 thì có format (x_center, y_center, width, height)\n",
        "\n",
        "+ 2: Object classification.\n",
        "\n",
        "0.99 là confidence score."
      ]
    },
    {
      "cell_type": "markdown",
      "metadata": {},
      "source": [
        "### 1. Dowload and import library"
      ]
    },
    {
      "cell_type": "code",
      "execution_count": 1,
      "metadata": {},
      "outputs": [
        {
          "name": "stdout",
          "output_type": "stream",
          "text": [
            "Ultralytics YOLOv8.2.20  Python-3.12.3 torch-2.3.0+cpu CPU (AMD Ryzen 5 5500U with Radeon Graphics)\n",
            "Setup complete  (12 CPUs, 15.3 GB RAM, 170.3/237.2 GB disk)\n"
          ]
        }
      ],
      "source": [
        "# Tải YOLOv8 thuộc thư viện ultralytics.\n",
        "%pip install ultralytics\n",
        "import ultralytics\n",
        "# kiểm tra xem cài được chưa\n",
        "ultralytics.checks()"
      ]
    },
    {
      "cell_type": "code",
      "execution_count": 2,
      "metadata": {},
      "outputs": [
        {
          "name": "stdout",
          "output_type": "stream",
          "text": [
            "Requirement already satisfied: scikit-learn in c:\\users\\loctr\\anaconda3\\envs\\aio\\lib\\site-packages (1.5.0)\n",
            "Requirement already satisfied: numpy>=1.19.5 in c:\\users\\loctr\\anaconda3\\envs\\aio\\lib\\site-packages (from scikit-learn) (1.26.4)\n",
            "Requirement already satisfied: scipy>=1.6.0 in c:\\users\\loctr\\anaconda3\\envs\\aio\\lib\\site-packages (from scikit-learn) (1.13.1)\n",
            "Requirement already satisfied: joblib>=1.2.0 in c:\\users\\loctr\\anaconda3\\envs\\aio\\lib\\site-packages (from scikit-learn) (1.4.2)\n",
            "Requirement already satisfied: threadpoolctl>=3.1.0 in c:\\users\\loctr\\anaconda3\\envs\\aio\\lib\\site-packages (from scikit-learn) (3.5.0)\n",
            "Note: you may need to restart the kernel to use updated packages.\n"
          ]
        }
      ],
      "source": [
        "%pip install scikit-learn"
      ]
    },
    {
      "cell_type": "code",
      "execution_count": 3,
      "metadata": {},
      "outputs": [
        {
          "name": "stdout",
          "output_type": "stream",
          "text": [
            "Requirement already satisfied: gdown in c:\\users\\loctr\\anaconda3\\envs\\aio\\lib\\site-packages (5.2.0)\n",
            "Requirement already satisfied: beautifulsoup4 in c:\\users\\loctr\\anaconda3\\envs\\aio\\lib\\site-packages (from gdown) (4.12.3)\n",
            "Requirement already satisfied: filelock in c:\\users\\loctr\\anaconda3\\envs\\aio\\lib\\site-packages (from gdown) (3.14.0)\n",
            "Requirement already satisfied: requests[socks] in c:\\users\\loctr\\anaconda3\\envs\\aio\\lib\\site-packages (from gdown) (2.32.2)\n",
            "Requirement already satisfied: tqdm in c:\\users\\loctr\\anaconda3\\envs\\aio\\lib\\site-packages (from gdown) (4.66.4)\n",
            "Requirement already satisfied: soupsieve>1.2 in c:\\users\\loctr\\anaconda3\\envs\\aio\\lib\\site-packages (from beautifulsoup4->gdown) (2.5)\n",
            "Requirement already satisfied: charset-normalizer<4,>=2 in c:\\users\\loctr\\anaconda3\\envs\\aio\\lib\\site-packages (from requests[socks]->gdown) (3.3.2)\n",
            "Requirement already satisfied: idna<4,>=2.5 in c:\\users\\loctr\\anaconda3\\envs\\aio\\lib\\site-packages (from requests[socks]->gdown) (3.7)\n",
            "Requirement already satisfied: urllib3<3,>=1.21.1 in c:\\users\\loctr\\anaconda3\\envs\\aio\\lib\\site-packages (from requests[socks]->gdown) (2.2.1)\n",
            "Requirement already satisfied: certifi>=2017.4.17 in c:\\users\\loctr\\anaconda3\\envs\\aio\\lib\\site-packages (from requests[socks]->gdown) (2024.2.2)\n",
            "Requirement already satisfied: PySocks!=1.5.7,>=1.5.6 in c:\\users\\loctr\\anaconda3\\envs\\aio\\lib\\site-packages (from requests[socks]->gdown) (1.7.1)\n",
            "Requirement already satisfied: colorama in c:\\users\\loctr\\appdata\\roaming\\python\\python312\\site-packages (from tqdm->gdown) (0.4.6)\n",
            "Note: you may need to restart the kernel to use updated packages.\n",
            "Requirement already satisfied: unzip in c:\\users\\loctr\\anaconda3\\envs\\aio\\lib\\site-packages (1.0.0)\n",
            "Note: you may need to restart the kernel to use updated packages.\n"
          ]
        }
      ],
      "source": [
        "%pip install gdown\n",
        "%pip install unzip"
      ]
    },
    {
      "cell_type": "code",
      "execution_count": 4,
      "metadata": {},
      "outputs": [],
      "source": [
        "# thư viên truy cập các tác vụ hệ thống\n",
        "import os\n",
        "# thư viện để chuyển đổi file sao chép coppy xóa file\n",
        "import shutil\n",
        "# thư viện đọc file yaml\n",
        "import yaml\n",
        "# thư viện numpy\n",
        "import numpy as np\n",
        "# thư viện dùng để chỉnh sửa bảng\n",
        "import pandas as pd\n",
        "\n",
        "import cv2\n",
        "import json\n",
        "# thư viện để vẽ hình ảnh\n",
        "import matplotlib.pyplot as plt\n",
        "\n",
        "#thư viện chứa YOLO để train.\n",
        "from ultralytics import YOLO\n",
        "from PIL import Image\n",
        "#thư viện chứa các phần như cắt file, thư viện các hàm logictis regressions\n",
        "from sklearn.model_selection import train_test_split"
      ]
    },
    {
      "cell_type": "markdown",
      "metadata": {
        "id": "FXtMfXaiFojs"
      },
      "source": []
    },
    {
      "cell_type": "markdown",
      "metadata": {
        "id": "34FNUrhxHJQK"
      },
      "source": [
        "### 2. Prepare YOLOv8 data"
      ]
    },
    {
      "attachments": {
        "image.png": {
          "image/png": "[encoded data removed]"
        }
      },
      "cell_type": "markdown",
      "metadata": {},
      "source": [
        "format của folder YOLOv8\n",
        "\n",
        "![image.png](attachment:image.png)"
      ]
    },
    {
      "cell_type": "markdown",
      "metadata": {},
      "source": [
        "### 2.1. Đối với dữ liệu theo format YOLOv8"
      ]
    },
    {
      "cell_type": "code",
      "execution_count": 5,
      "metadata": {},
      "outputs": [
        {
          "name": "stderr",
          "output_type": "stream",
          "text": [
            "Downloading...\n",
            "From (original): https://drive.google.com/uc?id=1sX9qmlPY1SXwboz9qOzjyLrkzCwYoT31\n",
            "From (redirected): https://drive.google.com/uc?id=1sX9qmlPY1SXwboz9qOzjyLrkzCwYoT31&confirm=t&uuid=8b5654d1-60d9-4869-9965-52b4ddadf139\n",
            "To: c:\\Google drive\\My Drive\\CODESPACE\\AIO\\WARN_UP\\10.WARN UP\\cars_yolo_data.zip\n",
            "\n",
            "  0%|          | 0.00/37.7M [00:00<?, ?B/s]\n",
            "  1%|▏         | 524k/37.7M [00:00<00:38, 976kB/s]\n",
            "  3%|▎         | 1.05M/37.7M [00:01<00:34, 1.05MB/s]\n",
            "  4%|▍         | 1.57M/37.7M [00:01<00:27, 1.32MB/s]\n",
            "  6%|▌         | 2.10M/37.7M [00:01<00:32, 1.10MB/s]\n",
            "  7%|▋         | 2.62M/37.7M [00:02<00:36, 959kB/s] \n",
            "  8%|▊         | 3.15M/37.7M [00:03<00:36, 948kB/s]\n",
            " 10%|▉         | 3.67M/37.7M [00:03<00:34, 986kB/s]\n",
            " 11%|█         | 4.19M/37.7M [00:04<00:31, 1.07MB/s]\n",
            " 12%|█▏        | 4.72M/37.7M [00:04<00:31, 1.04MB/s]\n",
            " 14%|█▍        | 5.24M/37.7M [00:05<00:34, 948kB/s] \n",
            " 15%|█▌        | 5.77M/37.7M [00:05<00:31, 1.02MB/s]\n",
            " 17%|█▋        | 6.29M/37.7M [00:06<00:28, 1.10MB/s]\n",
            " 18%|█▊        | 6.82M/37.7M [00:06<00:28, 1.09MB/s]\n",
            " 19%|█▉        | 7.34M/37.7M [00:07<00:30, 1.01MB/s]\n",
            " 21%|██        | 7.86M/37.7M [00:07<00:34, 876kB/s] \n",
            " 22%|██▏       | 8.39M/37.7M [00:08<00:37, 784kB/s]\n",
            " 24%|██▎       | 8.91M/37.7M [00:09<00:39, 731kB/s]\n",
            " 25%|██▍       | 9.44M/37.7M [00:10<00:36, 775kB/s]\n",
            " 26%|██▋       | 9.96M/37.7M [00:10<00:36, 765kB/s]\n",
            " 28%|██▊       | 10.5M/37.7M [00:11<00:36, 739kB/s]\n",
            " 29%|██▉       | 11.0M/37.7M [00:12<00:35, 753kB/s]\n",
            " 31%|███       | 11.5M/37.7M [00:13<00:36, 718kB/s]\n",
            " 32%|███▏      | 12.1M/37.7M [00:14<00:39, 655kB/s]\n",
            " 33%|███▎      | 12.6M/37.7M [00:15<00:41, 608kB/s]\n",
            " 35%|███▍      | 13.1M/37.7M [00:16<00:44, 551kB/s]\n",
            " 36%|███▌      | 13.6M/37.7M [00:17<00:49, 485kB/s]\n",
            " 37%|███▋      | 14.2M/37.7M [00:19<01:00, 388kB/s]\n",
            " 39%|███▉      | 14.7M/37.7M [00:21<01:03, 361kB/s]\n",
            " 40%|████      | 15.2M/37.7M [00:23<01:07, 333kB/s]\n",
            " 42%|████▏     | 15.7M/37.7M [00:24<01:05, 334kB/s]\n",
            " 43%|████▎     | 16.3M/37.7M [00:26<01:09, 308kB/s]\n",
            " 44%|████▍     | 16.8M/37.7M [00:30<01:36, 217kB/s]\n",
            " 46%|████▌     | 17.3M/37.7M [00:34<01:44, 196kB/s]\n",
            " 47%|████▋     | 17.8M/37.7M [00:39<02:07, 156kB/s]\n",
            " 49%|████▊     | 18.4M/37.7M [00:42<02:09, 150kB/s]\n",
            " 50%|████▉     | 18.9M/37.7M [00:45<01:52, 167kB/s]\n",
            " 51%|█████▏    | 19.4M/37.7M [00:46<01:32, 198kB/s]\n",
            " 53%|█████▎    | 19.9M/37.7M [00:47<01:13, 241kB/s]\n",
            " 54%|█████▍    | 20.4M/37.7M [00:48<00:59, 290kB/s]\n",
            " 56%|█████▌    | 21.0M/37.7M [00:49<00:49, 338kB/s]\n",
            " 57%|█████▋    | 21.5M/37.7M [00:51<00:49, 329kB/s]\n",
            " 58%|█████▊    | 22.0M/37.7M [00:52<00:46, 337kB/s]\n",
            " 60%|█████▉    | 22.5M/37.7M [00:54<00:45, 333kB/s]\n",
            " 61%|██████    | 23.1M/37.7M [00:56<00:45, 325kB/s]\n",
            " 62%|██████▏   | 23.6M/37.7M [00:57<00:43, 328kB/s]\n",
            " 64%|██████▍   | 24.1M/37.7M [00:59<00:41, 326kB/s]\n",
            " 65%|██████▌   | 24.6M/37.7M [01:01<00:47, 277kB/s]\n",
            " 67%|██████▋   | 25.2M/37.7M [01:04<00:50, 248kB/s]\n",
            " 68%|██████▊   | 25.7M/37.7M [01:07<00:51, 234kB/s]\n",
            " 69%|██████▉   | 26.2M/37.7M [01:08<00:43, 267kB/s]\n",
            " 71%|███████   | 26.7M/37.7M [01:09<00:36, 303kB/s]\n",
            " 72%|███████▏  | 27.3M/37.7M [01:11<00:33, 315kB/s]\n",
            " 74%|███████▎  | 27.8M/37.7M [01:12<00:31, 317kB/s]\n",
            " 75%|███████▍  | 28.3M/37.7M [01:14<00:29, 316kB/s]\n",
            " 76%|███████▋  | 28.8M/37.7M [01:17<00:37, 239kB/s]\n",
            " 78%|███████▊  | 29.4M/37.7M [01:20<00:36, 228kB/s]\n",
            " 79%|███████▉  | 29.9M/37.7M [01:23<00:39, 198kB/s]\n",
            " 81%|████████  | 30.4M/37.7M [01:26<00:35, 207kB/s]\n",
            " 82%|████████▏ | 30.9M/37.7M [01:27<00:29, 235kB/s]\n",
            " 83%|████████▎ | 31.5M/37.7M [01:29<00:25, 244kB/s]\n",
            " 85%|████████▍ | 32.0M/37.7M [01:33<00:30, 188kB/s]\n",
            " 86%|████████▌ | 32.5M/37.7M [01:35<00:23, 226kB/s]\n",
            " 87%|████████▋ | 33.0M/37.7M [01:36<00:18, 255kB/s]\n",
            " 89%|████████▉ | 33.6M/37.7M [01:37<00:15, 278kB/s]\n",
            " 90%|█████████ | 34.1M/37.7M [01:38<00:11, 324kB/s]\n",
            " 92%|█████████▏| 34.6M/37.7M [01:40<00:09, 349kB/s]\n",
            " 93%|█████████▎| 35.1M/37.7M [01:41<00:06, 395kB/s]\n",
            " 94%|█████████▍| 35.7M/37.7M [01:42<00:04, 423kB/s]\n",
            " 96%|█████████▌| 36.2M/37.7M [01:43<00:03, 448kB/s]\n",
            " 97%|█████████▋| 36.7M/37.7M [01:44<00:02, 477kB/s]\n",
            " 99%|█████████▊| 37.2M/37.7M [01:44<00:00, 537kB/s]\n",
            "100%|█████████▉| 37.7M/37.7M [01:45<00:00, 556kB/s]\n",
            "100%|██████████| 37.7M/37.7M [01:45<00:00, 357kB/s]\n",
            "'unzip' is not recognized as an internal or external command,\n",
            "operable program or batch file.\n"
          ]
        }
      ],
      "source": [
        "# download with gdown:\n",
        "!gdown 1sX9qmlPY1SXwboz9qOzjyLrkzCwYoT31\n",
        "#unzip\n",
        "!unzip cars_yolo_data.zip"
      ]
    },
    {
      "cell_type": "markdown",
      "metadata": {},
      "source": [
        "### 2.2. Đối với dữ liệu chưa theo format YOLOv8"
      ]
    },
    {
      "cell_type": "code",
      "execution_count": 30,
      "metadata": {},
      "outputs": [
        {
          "name": "stdout",
          "output_type": "stream",
          "text": [
            "^C\n"
          ]
        },
        {
          "name": "stderr",
          "output_type": "stream",
          "text": [
            "Downloading...\n",
            "From (original): https://drive.google.com/uc?id=1LHMGhIIemyjqCX4Wme87jsr_bUMg5Ewa\n",
            "From (redirected): https://drive.google.com/uc?id=1LHMGhIIemyjqCX4Wme87jsr_bUMg5Ewa&confirm=t&uuid=22520408-8794-4458-a034-17a68e052064\n",
            "To: c:\\Google drive\\My Drive\\CODESPACE\\AIO\\WARN_UP\\10.WARN UP\\car_object_detection.zip\n",
            "\n",
            "  0%|          | 0.00/118M [00:00<?, ?B/s]\n",
            "  0%|          | 524k/118M [00:00<01:16, 1.53MB/s]\n",
            "  1%|          | 1.05M/118M [00:00<01:21, 1.42MB/s]\n",
            "  1%|▏         | 1.57M/118M [00:01<01:31, 1.26MB/s]\n",
            "  2%|▏         | 2.10M/118M [00:01<01:32, 1.25MB/s]\n",
            "  2%|▏         | 2.62M/118M [00:02<01:36, 1.19MB/s]\n",
            "  3%|▎         | 3.15M/118M [00:02<01:31, 1.25MB/s]\n",
            "  3%|▎         | 3.67M/118M [00:02<01:34, 1.20MB/s]\n",
            "  4%|▎         | 4.19M/118M [00:03<01:28, 1.28MB/s]\n",
            "  4%|▍         | 4.72M/118M [00:03<01:29, 1.27MB/s]\n",
            "  4%|▍         | 5.24M/118M [00:04<01:30, 1.24MB/s]\n",
            "  5%|▍         | 5.77M/118M [00:04<01:28, 1.26MB/s]\n",
            "  5%|▌         | 6.29M/118M [00:05<01:31, 1.21MB/s]\n",
            "  6%|▌         | 6.82M/118M [00:05<01:29, 1.23MB/s]\n",
            "  6%|▌         | 7.34M/118M [00:05<01:35, 1.16MB/s]\n",
            "  7%|▋         | 7.86M/118M [00:06<01:30, 1.21MB/s]\n",
            "  7%|▋         | 8.39M/118M [00:06<01:26, 1.26MB/s]\n",
            "  8%|▊         | 8.91M/118M [00:07<01:26, 1.26MB/s]\n",
            "  8%|▊         | 9.44M/118M [00:07<01:26, 1.25MB/s]\n",
            "  8%|▊         | 9.96M/118M [00:08<01:33, 1.15MB/s]\n",
            "  9%|▉         | 10.5M/118M [00:08<01:26, 1.24MB/s]\n",
            "  9%|▉         | 11.0M/118M [00:08<01:25, 1.25MB/s]\n",
            " 10%|▉         | 11.5M/118M [00:09<01:25, 1.24MB/s]\n",
            " 10%|█         | 12.1M/118M [00:09<01:26, 1.22MB/s]\n",
            " 11%|█         | 12.6M/118M [00:10<01:24, 1.24MB/s]\n",
            " 11%|█         | 13.1M/118M [00:10<01:26, 1.21MB/s]\n",
            " 12%|█▏        | 13.6M/118M [00:11<01:23, 1.25MB/s]\n",
            " 12%|█▏        | 14.2M/118M [00:11<01:22, 1.25MB/s]\n",
            " 12%|█▏        | 14.7M/118M [00:11<01:22, 1.25MB/s]\n",
            " 13%|█▎        | 15.2M/118M [00:12<01:21, 1.25MB/s]\n",
            " 13%|█▎        | 15.7M/118M [00:12<01:21, 1.25MB/s]\n",
            " 14%|█▍        | 16.3M/118M [00:13<01:22, 1.23MB/s]\n",
            " 14%|█▍        | 16.8M/118M [00:13<01:23, 1.21MB/s]\n",
            " 15%|█▍        | 17.3M/118M [00:13<01:21, 1.22MB/s]\n",
            " 15%|█▌        | 17.8M/118M [00:14<01:19, 1.26MB/s]\n",
            " 16%|█▌        | 18.4M/118M [00:14<01:19, 1.25MB/s]\n",
            " 16%|█▌        | 18.9M/118M [00:15<01:19, 1.24MB/s]\n",
            " 17%|█▋        | 19.4M/118M [00:15<01:19, 1.23MB/s]\n",
            " 17%|█▋        | 19.9M/118M [00:16<01:19, 1.22MB/s]\n",
            " 17%|█▋        | 20.4M/118M [00:16<01:22, 1.17MB/s]\n",
            " 18%|█▊        | 21.0M/118M [00:16<01:16, 1.26MB/s]\n",
            " 18%|█▊        | 21.5M/118M [00:17<01:18, 1.23MB/s]\n",
            " 19%|█▊        | 22.0M/118M [00:17<01:15, 1.26MB/s]\n",
            " 19%|█▉        | 22.5M/118M [00:18<01:15, 1.26MB/s]\n",
            " 20%|█▉        | 23.1M/118M [00:18<01:16, 1.23MB/s]\n",
            " 20%|██        | 23.6M/118M [00:19<01:17, 1.22MB/s]\n",
            " 21%|██        | 24.1M/118M [00:19<01:25, 1.09MB/s]\n",
            " 21%|██        | 24.6M/118M [00:20<01:20, 1.15MB/s]\n",
            " 21%|██▏       | 25.2M/118M [00:20<01:17, 1.19MB/s]\n",
            " 22%|██▏       | 25.7M/118M [00:20<01:14, 1.23MB/s]\n",
            " 22%|██▏       | 26.2M/118M [00:21<01:17, 1.18MB/s]\n",
            " 23%|██▎       | 26.7M/118M [00:21<01:13, 1.24MB/s]\n",
            " 23%|██▎       | 27.3M/118M [00:22<01:13, 1.23MB/s]\n",
            " 24%|██▎       | 27.8M/118M [00:22<01:12, 1.23MB/s]\n",
            " 24%|██▍       | 28.3M/118M [00:23<01:15, 1.18MB/s]\n",
            " 25%|██▍       | 28.8M/118M [00:23<01:14, 1.18MB/s]\n",
            " 25%|██▍       | 29.4M/118M [00:23<01:13, 1.21MB/s]\n",
            " 25%|██▌       | 29.9M/118M [00:24<01:08, 1.27MB/s]\n",
            " 26%|██▌       | 30.4M/118M [00:24<01:08, 1.26MB/s]\n",
            " 26%|██▋       | 30.9M/118M [00:25<01:09, 1.25MB/s]\n",
            " 27%|██▋       | 31.5M/118M [00:25<01:09, 1.24MB/s]\n",
            " 27%|██▋       | 32.0M/118M [00:26<01:09, 1.24MB/s]\n",
            " 28%|██▊       | 32.5M/118M [00:26<01:08, 1.23MB/s]\n",
            " 28%|██▊       | 33.0M/118M [00:26<01:07, 1.24MB/s]\n",
            " 29%|██▊       | 33.6M/118M [00:27<01:08, 1.23MB/s]\n",
            " 29%|██▉       | 34.1M/118M [00:27<01:11, 1.16MB/s]\n",
            " 29%|██▉       | 34.6M/118M [00:28<01:08, 1.22MB/s]\n",
            " 30%|██▉       | 35.1M/118M [00:28<01:04, 1.27MB/s]\n",
            " 30%|███       | 35.7M/118M [00:28<01:04, 1.26MB/s]\n",
            " 31%|███       | 36.2M/118M [00:29<01:05, 1.24MB/s]\n",
            " 31%|███       | 36.7M/118M [00:29<01:06, 1.22MB/s]\n",
            " 32%|███▏      | 37.2M/118M [00:30<01:04, 1.24MB/s]\n",
            " 32%|███▏      | 37.7M/118M [00:30<01:04, 1.23MB/s]\n",
            " 33%|███▎      | 38.3M/118M [00:31<01:04, 1.22MB/s]\n",
            " 33%|███▎      | 38.8M/118M [00:31<01:04, 1.22MB/s]\n",
            " 33%|███▎      | 39.3M/118M [00:31<01:03, 1.23MB/s]\n",
            " 34%|███▍      | 39.8M/118M [00:32<01:04, 1.20MB/s]\n",
            " 34%|███▍      | 40.4M/118M [00:32<01:02, 1.24MB/s]\n",
            " 35%|███▍      | 40.9M/118M [00:33<01:01, 1.24MB/s]\n",
            " 35%|███▌      | 41.4M/118M [00:33<01:03, 1.20MB/s]\n",
            " 36%|███▌      | 41.9M/118M [00:34<01:02, 1.22MB/s]\n",
            " 36%|███▌      | 42.5M/118M [00:34<01:02, 1.21MB/s]\n",
            " 37%|███▋      | 43.0M/118M [00:34<00:58, 1.26MB/s]\n",
            " 37%|███▋      | 43.5M/118M [00:35<01:01, 1.21MB/s]\n",
            " 37%|███▋      | 44.0M/118M [00:35<00:59, 1.23MB/s]\n",
            " 38%|███▊      | 44.6M/118M [00:36<00:59, 1.23MB/s]\n",
            " 38%|███▊      | 45.1M/118M [00:36<00:59, 1.21MB/s]\n",
            " 39%|███▉      | 45.6M/118M [00:37<00:59, 1.21MB/s]\n",
            " 39%|███▉      | 46.1M/118M [00:37<00:57, 1.23MB/s]\n",
            " 40%|███▉      | 46.7M/118M [00:37<00:57, 1.23MB/s]\n",
            " 40%|████      | 47.2M/118M [00:38<00:56, 1.25MB/s]\n",
            " 41%|████      | 47.7M/118M [00:38<00:56, 1.24MB/s]\n",
            " 41%|████      | 48.2M/118M [00:39<00:56, 1.22MB/s]\n",
            " 41%|████▏     | 48.8M/118M [00:39<00:55, 1.24MB/s]\n",
            " 42%|████▏     | 49.3M/118M [00:40<00:59, 1.14MB/s]\n",
            " 42%|████▏     | 49.8M/118M [00:40<00:56, 1.20MB/s]\n",
            " 43%|████▎     | 50.3M/118M [00:41<01:00, 1.11MB/s]\n",
            " 43%|████▎     | 50.9M/118M [00:41<01:02, 1.06MB/s]\n",
            " 44%|████▎     | 51.4M/118M [00:42<00:59, 1.11MB/s]\n",
            " 44%|████▍     | 51.9M/118M [00:42<00:56, 1.16MB/s]\n",
            " 45%|████▍     | 52.4M/118M [00:43<00:57, 1.14MB/s]\n",
            " 45%|████▌     | 53.0M/118M [00:43<00:55, 1.15MB/s]\n",
            " 46%|████▌     | 53.5M/118M [00:43<00:57, 1.12MB/s]\n",
            " 46%|████▌     | 54.0M/118M [00:44<00:57, 1.11MB/s]\n",
            " 46%|████▋     | 54.5M/118M [00:44<00:53, 1.18MB/s]\n",
            " 47%|████▋     | 55.1M/118M [00:45<00:54, 1.15MB/s]\n",
            " 47%|████▋     | 55.6M/118M [00:45<00:51, 1.20MB/s]\n",
            " 48%|████▊     | 56.1M/118M [00:46<00:58, 1.06MB/s]\n",
            " 48%|████▊     | 56.6M/118M [00:46<01:02, 967kB/s] \n",
            " 49%|████▊     | 57.1M/118M [00:47<01:01, 977kB/s]\n",
            " 49%|████▉     | 57.7M/118M [00:47<00:55, 1.07MB/s]\n",
            " 50%|████▉     | 58.2M/118M [00:48<00:59, 992kB/s] \n",
            " 50%|████▉     | 58.7M/118M [00:49<01:14, 786kB/s]\n",
            " 50%|█████     | 59.2M/118M [00:49<01:08, 848kB/s]\n",
            " 51%|█████     | 59.8M/118M [00:50<01:08, 844kB/s]\n",
            " 51%|█████▏    | 60.3M/118M [00:51<01:06, 866kB/s]\n",
            " 52%|█████▏    | 60.8M/118M [00:51<01:02, 906kB/s]\n",
            " 52%|█████▏    | 61.3M/118M [00:52<01:04, 872kB/s]\n",
            " 53%|█████▎    | 61.9M/118M [00:52<01:02, 896kB/s]\n",
            " 53%|█████▎    | 62.4M/118M [00:53<01:05, 842kB/s]\n",
            " 54%|█████▎    | 62.9M/118M [00:54<01:06, 820kB/s]\n",
            " 54%|█████▍    | 63.4M/118M [00:55<01:08, 793kB/s]\n",
            " 54%|█████▍    | 64.0M/118M [00:55<01:03, 844kB/s]\n",
            " 55%|█████▍    | 64.5M/118M [00:55<00:56, 938kB/s]\n",
            " 55%|█████▌    | 65.0M/118M [00:56<00:51, 1.02MB/s]\n",
            " 56%|█████▌    | 65.5M/118M [00:56<00:48, 1.06MB/s]\n",
            " 56%|█████▌    | 66.1M/118M [00:57<00:47, 1.08MB/s]\n",
            " 57%|█████▋    | 66.6M/118M [00:57<00:45, 1.11MB/s]\n",
            " 57%|█████▋    | 67.1M/118M [00:58<00:43, 1.16MB/s]\n",
            " 58%|█████▊    | 67.6M/118M [00:58<00:42, 1.17MB/s]\n",
            " 58%|█████▊    | 68.2M/118M [00:58<00:41, 1.19MB/s]\n",
            " 58%|█████▊    | 68.7M/118M [00:59<00:41, 1.17MB/s]\n",
            " 59%|█████▉    | 69.2M/118M [00:59<00:40, 1.21MB/s]\n",
            " 59%|█████▉    | 69.7M/118M [01:00<00:41, 1.16MB/s]\n",
            " 60%|█████▉    | 70.3M/118M [01:00<00:40, 1.17MB/s]\n",
            " 60%|██████    | 70.8M/118M [01:01<00:37, 1.25MB/s]\n",
            " 61%|██████    | 71.3M/118M [01:01<00:37, 1.24MB/s]\n",
            " 61%|██████    | 71.8M/118M [01:01<00:36, 1.24MB/s]\n",
            " 62%|██████▏   | 72.4M/118M [01:02<00:36, 1.23MB/s]\n",
            " 62%|██████▏   | 72.9M/118M [01:02<00:39, 1.13MB/s]\n",
            " 62%|██████▏   | 73.4M/118M [01:03<00:37, 1.18MB/s]\n",
            " 63%|██████▎   | 73.9M/118M [01:03<00:35, 1.23MB/s]\n",
            " 63%|██████▎   | 74.4M/118M [01:04<00:35, 1.22MB/s]\n",
            " 64%|██████▍   | 75.0M/118M [01:04<00:36, 1.18MB/s]\n",
            " 64%|██████▍   | 75.5M/118M [01:05<00:34, 1.22MB/s]\n",
            " 65%|██████▍   | 76.0M/118M [01:05<00:33, 1.24MB/s]\n",
            " 65%|██████▌   | 76.5M/118M [01:05<00:32, 1.25MB/s]\n",
            " 66%|██████▌   | 77.1M/118M [01:06<00:33, 1.19MB/s]\n",
            " 66%|██████▌   | 77.6M/118M [01:06<00:32, 1.24MB/s]\n",
            " 66%|██████▋   | 78.1M/118M [01:07<00:31, 1.25MB/s]\n",
            " 67%|██████▋   | 78.6M/118M [01:07<00:31, 1.22MB/s]\n",
            " 67%|██████▋   | 79.2M/118M [01:08<00:31, 1.22MB/s]\n",
            " 68%|██████▊   | 79.7M/118M [01:08<00:32, 1.17MB/s]\n",
            " 68%|██████▊   | 80.2M/118M [01:08<00:30, 1.23MB/s]\n",
            " 69%|██████▊   | 80.7M/118M [01:09<00:29, 1.23MB/s]\n",
            " 69%|██████▉   | 81.3M/118M [01:09<00:29, 1.24MB/s]\n",
            " 70%|██████▉   | 81.8M/118M [01:10<00:28, 1.24MB/s]\n",
            " 70%|███████   | 82.3M/118M [01:10<00:28, 1.24MB/s]\n",
            " 70%|███████   | 82.8M/118M [01:11<00:28, 1.21MB/s]\n",
            " 71%|███████   | 83.4M/118M [01:11<00:28, 1.18MB/s]\n",
            " 71%|███████▏  | 83.9M/118M [01:11<00:27, 1.21MB/s]\n",
            " 72%|███████▏  | 84.4M/118M [01:12<00:27, 1.23MB/s]\n",
            " 72%|███████▏  | 84.9M/118M [01:12<00:25, 1.26MB/s]\n",
            " 73%|███████▎  | 85.5M/118M [01:13<00:26, 1.21MB/s]\n",
            " 73%|███████▎  | 86.0M/118M [01:13<00:26, 1.17MB/s]\n",
            " 74%|███████▎  | 86.5M/118M [01:14<00:25, 1.20MB/s]\n",
            " 74%|███████▍  | 87.0M/118M [01:14<00:23, 1.27MB/s]\n",
            " 75%|███████▍  | 87.6M/118M [01:14<00:24, 1.23MB/s]\n",
            " 75%|███████▍  | 88.1M/118M [01:15<00:23, 1.25MB/s]\n",
            " 75%|███████▌  | 88.6M/118M [01:15<00:23, 1.26MB/s]\n",
            " 76%|███████▌  | 89.1M/118M [01:16<00:23, 1.21MB/s]\n",
            " 76%|███████▋  | 89.7M/118M [01:16<00:23, 1.17MB/s]\n",
            " 77%|███████▋  | 90.2M/118M [01:17<00:22, 1.22MB/s]\n",
            " 77%|███████▋  | 90.7M/118M [01:17<00:21, 1.27MB/s]\n",
            " 78%|███████▊  | 91.2M/118M [01:17<00:20, 1.26MB/s]\n",
            " 78%|███████▊  | 91.8M/118M [01:18<00:21, 1.20MB/s]\n",
            " 79%|███████▊  | 92.3M/118M [01:18<00:20, 1.20MB/s]\n",
            " 79%|███████▉  | 92.8M/118M [01:19<00:19, 1.26MB/s]\n",
            " 79%|███████▉  | 93.3M/118M [01:19<00:19, 1.25MB/s]\n",
            " 80%|███████▉  | 93.8M/118M [01:19<00:18, 1.26MB/s]\n",
            " 80%|████████  | 94.4M/118M [01:20<00:18, 1.24MB/s]\n",
            " 81%|████████  | 94.9M/118M [01:20<00:18, 1.24MB/s]\n",
            " 81%|████████  | 95.4M/118M [01:21<00:17, 1.25MB/s]\n",
            " 82%|████████▏ | 95.9M/118M [01:21<00:17, 1.25MB/s]\n",
            " 82%|████████▏ | 96.5M/118M [01:22<00:17, 1.23MB/s]\n",
            " 83%|████████▎ | 97.0M/118M [01:22<00:16, 1.23MB/s]\n",
            " 83%|████████▎ | 97.5M/118M [01:22<00:16, 1.25MB/s]\n",
            " 83%|████████▎ | 98.0M/118M [01:23<00:15, 1.25MB/s]\n",
            " 84%|████████▍ | 98.6M/118M [01:23<00:15, 1.25MB/s]\n",
            " 84%|████████▍ | 99.1M/118M [01:24<00:15, 1.21MB/s]\n",
            " 85%|████████▍ | 99.6M/118M [01:24<00:14, 1.26MB/s]\n",
            " 85%|████████▌ | 100M/118M [01:25<00:14, 1.24MB/s] \n",
            " 86%|████████▌ | 101M/118M [01:25<00:13, 1.23MB/s]\n",
            " 86%|████████▌ | 101M/118M [01:25<00:13, 1.25MB/s]\n",
            " 87%|████████▋ | 102M/118M [01:26<00:12, 1.24MB/s]\n",
            " 87%|████████▋ | 102M/118M [01:26<00:12, 1.24MB/s]\n",
            " 87%|████████▋ | 103M/118M [01:27<00:12, 1.22MB/s]\n",
            " 88%|████████▊ | 103M/118M [01:27<00:11, 1.25MB/s]\n",
            " 88%|████████▊ | 104M/118M [01:28<00:11, 1.22MB/s]\n",
            " 89%|████████▉ | 104M/118M [01:28<00:10, 1.22MB/s]\n",
            " 89%|████████▉ | 105M/118M [01:28<00:10, 1.25MB/s]\n",
            " 90%|████████▉ | 105M/118M [01:29<00:09, 1.25MB/s]\n",
            " 90%|█████████ | 106M/118M [01:29<00:09, 1.24MB/s]\n",
            " 91%|█████████ | 106M/118M [01:30<00:09, 1.23MB/s]\n",
            " 91%|█████████ | 107M/118M [01:30<00:08, 1.25MB/s]\n",
            " 91%|█████████▏| 107M/118M [01:31<00:08, 1.21MB/s]\n",
            " 92%|█████████▏| 108M/118M [01:31<00:07, 1.25MB/s]\n",
            " 92%|█████████▏| 109M/118M [01:31<00:07, 1.24MB/s]\n",
            " 93%|█████████▎| 109M/118M [01:32<00:06, 1.23MB/s]\n",
            " 93%|█████████▎| 110M/118M [01:32<00:06, 1.23MB/s]\n",
            " 94%|█████████▎| 110M/118M [01:33<00:05, 1.27MB/s]\n",
            " 94%|█████████▍| 111M/118M [01:33<00:05, 1.25MB/s]\n",
            " 95%|█████████▍| 111M/118M [01:33<00:05, 1.25MB/s]\n",
            " 95%|█████████▌| 112M/118M [01:34<00:04, 1.17MB/s]\n",
            " 95%|█████████▌| 112M/118M [01:34<00:04, 1.24MB/s]\n",
            " 96%|█████████▌| 113M/118M [01:35<00:03, 1.22MB/s]\n",
            " 96%|█████████▋| 113M/118M [01:35<00:03, 1.22MB/s]\n",
            " 97%|█████████▋| 114M/118M [01:36<00:02, 1.28MB/s]\n",
            " 97%|█████████▋| 114M/118M [01:36<00:02, 1.26MB/s]\n",
            " 98%|█████████▊| 115M/118M [01:36<00:02, 1.25MB/s]\n",
            " 98%|█████████▊| 115M/118M [01:37<00:01, 1.22MB/s]\n",
            " 99%|█████████▊| 116M/118M [01:37<00:01, 1.22MB/s]\n",
            " 99%|█████████▉| 116M/118M [01:38<00:00, 1.24MB/s]\n",
            " 99%|█████████▉| 117M/118M [01:38<00:00, 1.25MB/s]\n",
            "100%|█████████▉| 117M/118M [01:39<00:00, 1.01MB/s]\n",
            "100%|██████████| 118M/118M [01:39<00:00, 1.18MB/s]\n"
          ]
        }
      ],
      "source": [
        "# Tải file zip từ ggdrive\n",
        "!gdown 1LHMGhIIemyjqCX4Wme87jsr_bUMg5Ewa"
      ]
    },
    {
      "cell_type": "code",
      "execution_count": 26,
      "metadata": {},
      "outputs": [
        {
          "name": "stdout",
          "output_type": "stream",
          "text": [
            "Requirement already satisfied: unzip in c:\\users\\loctr\\anaconda3\\envs\\aio\\lib\\site-packages (1.0.0)\n",
            "Note: you may need to restart the kernel to use updated packages.\n"
          ]
        }
      ],
      "source": [
        "%pip install unzip"
      ]
    },
    {
      "cell_type": "code",
      "execution_count": 33,
      "metadata": {},
      "outputs": [
        {
          "name": "stderr",
          "output_type": "stream",
          "text": [
            "'unzip' is not recognized as an internal or external command,\n",
            "operable program or batch file.\n"
          ]
        }
      ],
      "source": [
        "# Unzip file\n",
        "!unzip car_object_detection.zip"
      ]
    },
    {
      "cell_type": "code",
      "execution_count": 35,
      "metadata": {
        "colab": {
          "base_uri": "https://localhost:8080/",
          "height": 423
        },
        "collapsed": true,
        "id": "9Yn4vKm2HOww",
        "outputId": "e071ad28-21c2-4fc1-aa6e-c85680e3c647"
      },
      "outputs": [
        {
          "data": {
            "text/html": [
              "<div>\n",
              "<style scoped>\n",
              "    .dataframe tbody tr th:only-of-type {\n",
              "        vertical-align: middle;\n",
              "    }\n",
              "\n",
              "    .dataframe tbody tr th {\n",
              "        vertical-align: top;\n",
              "    }\n",
              "\n",
              "    .dataframe thead th {\n",
              "        text-align: right;\n",
              "    }\n",
              "</style>\n",
              "<table border=\"1\" class=\"dataframe\">\n",
              "  <thead>\n",
              "    <tr style=\"text-align: right;\">\n",
              "      <th></th>\n",
              "      <th>image</th>\n",
              "      <th>xmin</th>\n",
              "      <th>ymin</th>\n",
              "      <th>xmax</th>\n",
              "      <th>ymax</th>\n",
              "    </tr>\n",
              "  </thead>\n",
              "  <tbody>\n",
              "    <tr>\n",
              "      <th>0</th>\n",
              "      <td>vid_4_1000.jpg</td>\n",
              "      <td>281.259045</td>\n",
              "      <td>187.035071</td>\n",
              "      <td>327.727931</td>\n",
              "      <td>223.225547</td>\n",
              "    </tr>\n",
              "    <tr>\n",
              "      <th>1</th>\n",
              "      <td>vid_4_10000.jpg</td>\n",
              "      <td>15.163531</td>\n",
              "      <td>187.035071</td>\n",
              "      <td>120.329957</td>\n",
              "      <td>236.430180</td>\n",
              "    </tr>\n",
              "    <tr>\n",
              "      <th>2</th>\n",
              "      <td>vid_4_10040.jpg</td>\n",
              "      <td>239.192475</td>\n",
              "      <td>176.764801</td>\n",
              "      <td>361.968162</td>\n",
              "      <td>236.430180</td>\n",
              "    </tr>\n",
              "    <tr>\n",
              "      <th>3</th>\n",
              "      <td>vid_4_10020.jpg</td>\n",
              "      <td>496.483358</td>\n",
              "      <td>172.363256</td>\n",
              "      <td>630.020260</td>\n",
              "      <td>231.539575</td>\n",
              "    </tr>\n",
              "    <tr>\n",
              "      <th>4</th>\n",
              "      <td>vid_4_10060.jpg</td>\n",
              "      <td>16.630970</td>\n",
              "      <td>186.546010</td>\n",
              "      <td>132.558611</td>\n",
              "      <td>238.386422</td>\n",
              "    </tr>\n",
              "    <tr>\n",
              "      <th>...</th>\n",
              "      <td>...</td>\n",
              "      <td>...</td>\n",
              "      <td>...</td>\n",
              "      <td>...</td>\n",
              "      <td>...</td>\n",
              "    </tr>\n",
              "    <tr>\n",
              "      <th>554</th>\n",
              "      <td>vid_4_9860.jpg</td>\n",
              "      <td>0.000000</td>\n",
              "      <td>198.321729</td>\n",
              "      <td>49.235251</td>\n",
              "      <td>236.223284</td>\n",
              "    </tr>\n",
              "    <tr>\n",
              "      <th>555</th>\n",
              "      <td>vid_4_9880.jpg</td>\n",
              "      <td>329.876184</td>\n",
              "      <td>156.482351</td>\n",
              "      <td>536.664239</td>\n",
              "      <td>250.497895</td>\n",
              "    </tr>\n",
              "    <tr>\n",
              "      <th>556</th>\n",
              "      <td>vid_4_9900.jpg</td>\n",
              "      <td>0.000000</td>\n",
              "      <td>168.295823</td>\n",
              "      <td>141.797524</td>\n",
              "      <td>239.176652</td>\n",
              "    </tr>\n",
              "    <tr>\n",
              "      <th>557</th>\n",
              "      <td>vid_4_9960.jpg</td>\n",
              "      <td>487.428988</td>\n",
              "      <td>172.233646</td>\n",
              "      <td>616.917699</td>\n",
              "      <td>228.839864</td>\n",
              "    </tr>\n",
              "    <tr>\n",
              "      <th>558</th>\n",
              "      <td>vid_4_9980.jpg</td>\n",
              "      <td>221.558631</td>\n",
              "      <td>182.570434</td>\n",
              "      <td>348.585579</td>\n",
              "      <td>238.192196</td>\n",
              "    </tr>\n",
              "  </tbody>\n",
              "</table>\n",
              "<p>559 rows × 5 columns</p>\n",
              "</div>"
            ],
            "text/plain": [
              "               image        xmin        ymin        xmax        ymax\n",
              "0     vid_4_1000.jpg  281.259045  187.035071  327.727931  223.225547\n",
              "1    vid_4_10000.jpg   15.163531  187.035071  120.329957  236.430180\n",
              "2    vid_4_10040.jpg  239.192475  176.764801  361.968162  236.430180\n",
              "3    vid_4_10020.jpg  496.483358  172.363256  630.020260  231.539575\n",
              "4    vid_4_10060.jpg   16.630970  186.546010  132.558611  238.386422\n",
              "..               ...         ...         ...         ...         ...\n",
              "554   vid_4_9860.jpg    0.000000  198.321729   49.235251  236.223284\n",
              "555   vid_4_9880.jpg  329.876184  156.482351  536.664239  250.497895\n",
              "556   vid_4_9900.jpg    0.000000  168.295823  141.797524  239.176652\n",
              "557   vid_4_9960.jpg  487.428988  172.233646  616.917699  228.839864\n",
              "558   vid_4_9980.jpg  221.558631  182.570434  348.585579  238.192196\n",
              "\n",
              "[559 rows x 5 columns]"
            ]
          },
          "execution_count": 35,
          "metadata": {},
          "output_type": "execute_result"
        }
      ],
      "source": [
        "train_data_dir = './data/training_images'\n",
        "label_filepath = './data/train_solution_bounding_boxes (1).csv'\n",
        "\n",
        "df = pd.read_csv(label_filepath)\n",
        "df"
      ]
    },
    {
      "cell_type": "code",
      "execution_count": 36,
      "metadata": {
        "colab": {
          "base_uri": "https://localhost:8080/",
          "height": 423
        },
        "id": "Aafe2zxxH-gu",
        "outputId": "9bcb220b-5f74-40d8-dbf9-49d38f87546a"
      },
      "outputs": [
        {
          "data": {
            "text/html": [
              "<div>\n",
              "<style scoped>\n",
              "    .dataframe tbody tr th:only-of-type {\n",
              "        vertical-align: middle;\n",
              "    }\n",
              "\n",
              "    .dataframe tbody tr th {\n",
              "        vertical-align: top;\n",
              "    }\n",
              "\n",
              "    .dataframe thead th {\n",
              "        text-align: right;\n",
              "    }\n",
              "</style>\n",
              "<table border=\"1\" class=\"dataframe\">\n",
              "  <thead>\n",
              "    <tr style=\"text-align: right;\">\n",
              "      <th></th>\n",
              "      <th>image_name</th>\n",
              "      <th>class</th>\n",
              "      <th>x_center</th>\n",
              "      <th>y_center</th>\n",
              "      <th>bbox_w</th>\n",
              "      <th>bbox_h</th>\n",
              "    </tr>\n",
              "  </thead>\n",
              "  <tbody>\n",
              "    <tr>\n",
              "      <th>0</th>\n",
              "      <td>vid_4_1000.jpg</td>\n",
              "      <td>0</td>\n",
              "      <td>0.450434</td>\n",
              "      <td>0.539817</td>\n",
              "      <td>0.068741</td>\n",
              "      <td>0.095238</td>\n",
              "    </tr>\n",
              "    <tr>\n",
              "      <th>1</th>\n",
              "      <td>vid_4_10000.jpg</td>\n",
              "      <td>0</td>\n",
              "      <td>0.100217</td>\n",
              "      <td>0.557191</td>\n",
              "      <td>0.155572</td>\n",
              "      <td>0.129987</td>\n",
              "    </tr>\n",
              "    <tr>\n",
              "      <th>2</th>\n",
              "      <td>vid_4_10040.jpg</td>\n",
              "      <td>0</td>\n",
              "      <td>0.444645</td>\n",
              "      <td>0.543678</td>\n",
              "      <td>0.181621</td>\n",
              "      <td>0.157014</td>\n",
              "    </tr>\n",
              "    <tr>\n",
              "      <th>3</th>\n",
              "      <td>vid_4_10020.jpg</td>\n",
              "      <td>0</td>\n",
              "      <td>0.833213</td>\n",
              "      <td>0.531451</td>\n",
              "      <td>0.197540</td>\n",
              "      <td>0.155727</td>\n",
              "    </tr>\n",
              "    <tr>\n",
              "      <th>4</th>\n",
              "      <td>vid_4_10060.jpg</td>\n",
              "      <td>0</td>\n",
              "      <td>0.110347</td>\n",
              "      <td>0.559122</td>\n",
              "      <td>0.171491</td>\n",
              "      <td>0.136422</td>\n",
              "    </tr>\n",
              "    <tr>\n",
              "      <th>...</th>\n",
              "      <td>...</td>\n",
              "      <td>...</td>\n",
              "      <td>...</td>\n",
              "      <td>...</td>\n",
              "      <td>...</td>\n",
              "      <td>...</td>\n",
              "    </tr>\n",
              "    <tr>\n",
              "      <th>554</th>\n",
              "      <td>vid_4_9860.jpg</td>\n",
              "      <td>0</td>\n",
              "      <td>0.036417</td>\n",
              "      <td>0.571770</td>\n",
              "      <td>0.072833</td>\n",
              "      <td>0.099741</td>\n",
              "    </tr>\n",
              "    <tr>\n",
              "      <th>555</th>\n",
              "      <td>vid_4_9880.jpg</td>\n",
              "      <td>0</td>\n",
              "      <td>0.640932</td>\n",
              "      <td>0.535500</td>\n",
              "      <td>0.305899</td>\n",
              "      <td>0.247409</td>\n",
              "    </tr>\n",
              "    <tr>\n",
              "      <th>556</th>\n",
              "      <td>vid_4_9900.jpg</td>\n",
              "      <td>0</td>\n",
              "      <td>0.104880</td>\n",
              "      <td>0.536148</td>\n",
              "      <td>0.209760</td>\n",
              "      <td>0.186528</td>\n",
              "    </tr>\n",
              "    <tr>\n",
              "      <th>557</th>\n",
              "      <td>vid_4_9960.jpg</td>\n",
              "      <td>0</td>\n",
              "      <td>0.816824</td>\n",
              "      <td>0.527728</td>\n",
              "      <td>0.191551</td>\n",
              "      <td>0.148964</td>\n",
              "    </tr>\n",
              "    <tr>\n",
              "      <th>558</th>\n",
              "      <td>vid_4_9980.jpg</td>\n",
              "      <td>0</td>\n",
              "      <td>0.421704</td>\n",
              "      <td>0.553635</td>\n",
              "      <td>0.187910</td>\n",
              "      <td>0.146373</td>\n",
              "    </tr>\n",
              "  </tbody>\n",
              "</table>\n",
              "<p>559 rows × 6 columns</p>\n",
              "</div>"
            ],
            "text/plain": [
              "          image_name  class  x_center  y_center    bbox_w    bbox_h\n",
              "0     vid_4_1000.jpg      0  0.450434  0.539817  0.068741  0.095238\n",
              "1    vid_4_10000.jpg      0  0.100217  0.557191  0.155572  0.129987\n",
              "2    vid_4_10040.jpg      0  0.444645  0.543678  0.181621  0.157014\n",
              "3    vid_4_10020.jpg      0  0.833213  0.531451  0.197540  0.155727\n",
              "4    vid_4_10060.jpg      0  0.110347  0.559122  0.171491  0.136422\n",
              "..               ...    ...       ...       ...       ...       ...\n",
              "554   vid_4_9860.jpg      0  0.036417  0.571770  0.072833  0.099741\n",
              "555   vid_4_9880.jpg      0  0.640932  0.535500  0.305899  0.247409\n",
              "556   vid_4_9900.jpg      0  0.104880  0.536148  0.209760  0.186528\n",
              "557   vid_4_9960.jpg      0  0.816824  0.527728  0.191551  0.148964\n",
              "558   vid_4_9980.jpg      0  0.421704  0.553635  0.187910  0.146373\n",
              "\n",
              "[559 rows x 6 columns]"
            ]
          },
          "execution_count": 36,
          "metadata": {},
          "output_type": "execute_result"
        }
      ],
      "source": [
        "pil_img = Image.open('./data/testing_images/vid_5_25100.jpg')\n",
        "img_w, img_h = pil_img.size\n",
        "\n",
        "#format cua YOLO : x_center, y_center, width, heigh\n",
        "# convert (x_min, y_min, x_max, y_max) => ( x_center, y_center, width, heigh)\n",
        "\n",
        "df['class'] = 0\n",
        "df.rename(columns={'image': 'image_name'}, inplace = True)\n",
        "\n",
        "df['x_center'] = (df['xmin'] + df['xmax'])/2\n",
        "df['y_center'] = (df['ymin'] + df['ymax'])/2\n",
        "df['bbox_w'] = df['xmax'] - df['xmin']\n",
        "df['bbox_h'] = df['ymax'] - df['ymin']\n",
        "\n",
        "#chuẩn hóa dữ liệu\n",
        "df['x_center'] = df['x_center'] / img_w\n",
        "df['y_center'] = df['y_center'] / img_h\n",
        "df['bbox_w'] = df['bbox_w'] / img_w\n",
        "df['bbox_h'] = df['bbox_h'] / img_h\n",
        "\n",
        "class_label = ['car']\n",
        "yolo_df = df[['image_name','class','x_center','y_center', 'bbox_w' , 'bbox_h']]\n",
        "yolo_df\n"
      ]
    },
    {
      "cell_type": "markdown",
      "metadata": {
        "id": "1CnG9IKYLY2c"
      },
      "source": [
        "### 3. Train , val, test split\n"
      ]
    },
    {
      "cell_type": "code",
      "execution_count": 37,
      "metadata": {
        "id": "TbAiy6BzLfyk"
      },
      "outputs": [],
      "source": [
        "seed = 0\n",
        "val_size = 0.14\n",
        "is_shuffle = True\n",
        "\n",
        "train_data, val_data = train_test_split(\n",
        "    yolo_df,\n",
        "    test_size = val_size,\n",
        "    random_state = seed,\n",
        "    shuffle = is_shuffle\n",
        ")"
      ]
    },
    {
      "cell_type": "markdown",
      "metadata": {
        "id": "CXcJh0AlMLF3"
      },
      "source": [
        "### 4. Save Data"
      ]
    },
    {
      "cell_type": "code",
      "execution_count": 38,
      "metadata": {
        "id": "rvMVFDJwMSo4"
      },
      "outputs": [],
      "source": [
        "def save_data(df, src_img_dr, save_dir):\n",
        "    # Create folder if not exists\n",
        "    os.makedirs(save_dir, exist_ok=True)\n",
        "\n",
        "    # Make images and labels folder\n",
        "    os.makedirs(os.path.join(save_dir, 'images'), exist_ok=True)\n",
        "    os.makedirs(os.path.join(save_dir, 'labels'), exist_ok=True)\n",
        "\n",
        "    yolo_labels = []\n",
        "\n",
        "    for idx, row in df.iterrows():\n",
        "        img_name = row['image_name']\n",
        "        class_id = row['class']\n",
        "        x_center = row['x_center']\n",
        "        y_center = row['y_center']\n",
        "        bbox_w = row['bbox_w']\n",
        "        bbox_h = row['bbox_h']\n",
        "\n",
        "        img_path = os.path.join(src_img_dr, img_name)\n",
        "\n",
        "        # Copy image to image folder\n",
        "        # print(src_img_dr)\n",
        "        # print(save_dir)\n",
        "        shutil.copy(\n",
        "            os.path.join(img_path),\n",
        "            os.path.join(save_dir, 'images'))\n",
        "\n",
        "        img_name = os.path.splitext(img_name)[0]\n",
        "        label = f'{class_id} {x_center} {y_center} {bbox_w} {bbox_h}'\n",
        "        yolo_labels.append((img_name, label))\n",
        "    for img_name, label in yolo_labels:\n",
        "        with open(os.path.join(save_dir, 'labels', f\"{img_name}.txt\"), 'w') as f:\n",
        "            f.write(f\"{label}\\n\")"
      ]
    },
    {
      "cell_type": "code",
      "execution_count": 39,
      "metadata": {
        "id": "RlH6l_u4PIOG"
      },
      "outputs": [],
      "source": [
        "save_yolo_data_dir = './yolo_data'\n",
        "os.makedirs(save_yolo_data_dir, exist_ok=True)\n",
        "save_train_dir = os.path.join(save_yolo_data_dir, 'train')\n",
        "save_val_dir = os.path.join(save_yolo_data_dir, 'val')\n",
        "\n",
        "save_data(train_data, train_data_dir, save_train_dir)\n",
        "save_data(val_data, train_data_dir, save_val_dir)\n"
      ]
    },
    {
      "cell_type": "markdown",
      "metadata": {
        "id": "EEultKr7P9dJ"
      },
      "source": [
        "### 5. Create yaml file"
      ]
    },
    {
      "cell_type": "markdown",
      "metadata": {
        "id": "CrD2YT9L2kPU"
      },
      "source": []
    },
    {
      "cell_type": "code",
      "execution_count": 52,
      "metadata": {
        "id": "mnSMXBCDdcvj"
      },
      "outputs": [],
      "source": [
        "data_yaml = {\n",
        "    'path' : 'C:/Google drive/My Drive/CODESPACE/AIO/WARN_UP/10.WARN UP/yolo_data', ## dương dan tuyet doi den folder yolo_data\n",
        "    'train' : 'train/images',\n",
        "    'test': 'test/images',\n",
        "    'val': 'val/images',\n",
        "    'nc': 1,\n",
        "    'names': class_label\n",
        "}\n",
        "\n",
        "yolo_yaml_path = os.path.join(\n",
        "    save_yolo_data_dir,\n",
        "    'data.yml'\n",
        ")\n",
        "\n",
        "with open(yolo_yaml_path,\"w\") as f:\n",
        "    yaml.dump(data_yaml, f, default_flow_style = False)"
      ]
    },
    {
      "cell_type": "markdown",
      "metadata": {
        "id": "h6zOhnIl7vLj"
      },
      "source": [
        "### 6. Train Data"
      ]
    },
    {
      "cell_type": "code",
      "execution_count": null,
      "metadata": {
        "colab": {
          "base_uri": "https://localhost:8080/"
        },
        "id": "OjcYfeIo7uOt",
        "outputId": "b3fe839b-2c32-488d-a856-bf85d4cf490f"
      },
      "outputs": [],
      "source": [
        "import matplotlib.pyplot as plt\n",
        "\n",
        "from ultralytics import YOLO\n",
        "#load model\n",
        "yolo_yaml_path = './yolo_data/data.yml'\n",
        "model = YOLO('yolov8s.yaml').load('./yolov8s.pt')\n",
        "\n",
        "#set up some important parameter\n",
        "epochs = 15 # coi thu train lap lai bao nhiu lan\n",
        "imgsz = 640\n",
        "batch_size = 8\n",
        "patience = 5\n",
        "lr = 0.0005\n",
        "\n",
        "#start straining (fine tuning)\n",
        "results = model.train (\n",
        "    data = yolo_yaml_path,\n",
        "    epochs =epochs,\n",
        "    imgsz =imgsz,\n",
        "    batch = batch_size,\n",
        "    lr0 =lr,\n",
        "    patience = patience,\n",
        "    project ='./models',\n",
        "    name ='./yolov8/detect/train'\n",
        ")"
      ]
    },
    {
      "cell_type": "code",
      "execution_count": null,
      "metadata": {
        "colab": {
          "base_uri": "https://localhost:8080/"
        },
        "id": "VxRPNTGjGonM",
        "outputId": "d3e5db18-ad1e-4c7b-a524-de6aab2507bf"
      },
      "outputs": [],
      "source": [
        "#evaluate model\n",
        "model_path = '/content/models/yolov8/detect/train/weights/best.pt'\n",
        "model = YOLO(model_path)\n",
        "\n",
        "metrics = model.val(\n",
        "    project='models',\n",
        "    name='yolov8/detect/val'\n",
        ")"
      ]
    },
    {
      "cell_type": "code",
      "execution_count": null,
      "metadata": {
        "colab": {
          "base_uri": "https://localhost:8080/"
        },
        "id": "nS2iqZNtGxyN",
        "outputId": "0c4df917-cd04-4552-d4af-99ce9b4abcfa"
      },
      "outputs": [],
      "source": [
        "#use model\n",
        "model_path = '/content/models/yolov8/detect/train/weights/best.pt'\n",
        "test_img = 'https://www.youtube.com/watch?v=So2ift8WR-c'\n",
        "model = YOLO(model_path)\n",
        "model_pre = model.predict(test_img, save = True)"
      ]
    }
  ],
  "metadata": {
    "accelerator": "GPU",
    "colab": {
      "gpuType": "T4",
      "provenance": []
    },
    "kernelspec": {
      "display_name": "Python 3",
      "name": "python3"
    },
    "language_info": {
      "codemirror_mode": {
        "name": "ipython",
        "version": 3
      },
      "file_extension": ".py",
      "mimetype": "text/x-python",
      "name": "python",
      "nbconvert_exporter": "python",
      "pygments_lexer": "ipython3",
      "version": "3.12.3"
    }
  },
  "nbformat": 4,
  "nbformat_minor": 0
}
